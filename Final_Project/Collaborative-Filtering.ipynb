{
  "cells": [
    {
      "cell_type": "code",
      "execution_count": 1,
      "metadata": {
        "id": "Lvck65u8di0G"
      },
      "outputs": [],
      "source": [
        "import pandas as pd \n",
        "import numpy as np\n",
        "import random\n",
        "from scipy.sparse.linalg import cg"
      ]
    },
    {
      "cell_type": "code",
      "execution_count": 2,
      "metadata": {
        "colab": {
          "base_uri": "https://localhost:8080/"
        },
        "id": "O0eg1xM8dzq7",
        "outputId": "bc78e1f3-86a2-47b2-e9ba-fd63073ec320"
      },
      "outputs": [
        {
          "output_type": "stream",
          "name": "stdout",
          "text": [
            "Mounted at /content/drive\n"
          ]
        }
      ],
      "source": [
        "from google.colab import drive\n",
        "drive.mount('/content/drive')"
      ]
    },
    {
      "cell_type": "code",
      "execution_count": 3,
      "metadata": {
        "colab": {
          "base_uri": "https://localhost:8080/",
          "height": 206
        },
        "id": "t28oKASx8_-1",
        "outputId": "de466b8b-5109-46e5-fe99-1b84765e7c1b"
      },
      "outputs": [
        {
          "output_type": "execute_result",
          "data": {
            "text/plain": [
              "   ID                                               Name  Rating  Name_ID  \\\n",
              "0   1                                         Siddhartha       5        1   \n",
              "1   1            The Hunger Games (The Hunger Games, #1)       5        2   \n",
              "2   1  The Authoritative Calvin and Hobbes: A Calvin ...       5        3   \n",
              "3   1  The Return of the Indian (The Indian in the Cu...       5        4   \n",
              "4   1  Dark Apprentice (Star Wars: The Jedi Academy T...       3        5   \n",
              "\n",
              "   New_ID  \n",
              "0       1  \n",
              "1       1  \n",
              "2       1  \n",
              "3       1  \n",
              "4       1  "
            ],
            "text/html": [
              "\n",
              "  <div id=\"df-58c0882a-4fcb-4b79-828e-d3262813440c\">\n",
              "    <div class=\"colab-df-container\">\n",
              "      <div>\n",
              "<style scoped>\n",
              "    .dataframe tbody tr th:only-of-type {\n",
              "        vertical-align: middle;\n",
              "    }\n",
              "\n",
              "    .dataframe tbody tr th {\n",
              "        vertical-align: top;\n",
              "    }\n",
              "\n",
              "    .dataframe thead th {\n",
              "        text-align: right;\n",
              "    }\n",
              "</style>\n",
              "<table border=\"1\" class=\"dataframe\">\n",
              "  <thead>\n",
              "    <tr style=\"text-align: right;\">\n",
              "      <th></th>\n",
              "      <th>ID</th>\n",
              "      <th>Name</th>\n",
              "      <th>Rating</th>\n",
              "      <th>Name_ID</th>\n",
              "      <th>New_ID</th>\n",
              "    </tr>\n",
              "  </thead>\n",
              "  <tbody>\n",
              "    <tr>\n",
              "      <th>0</th>\n",
              "      <td>1</td>\n",
              "      <td>Siddhartha</td>\n",
              "      <td>5</td>\n",
              "      <td>1</td>\n",
              "      <td>1</td>\n",
              "    </tr>\n",
              "    <tr>\n",
              "      <th>1</th>\n",
              "      <td>1</td>\n",
              "      <td>The Hunger Games (The Hunger Games, #1)</td>\n",
              "      <td>5</td>\n",
              "      <td>2</td>\n",
              "      <td>1</td>\n",
              "    </tr>\n",
              "    <tr>\n",
              "      <th>2</th>\n",
              "      <td>1</td>\n",
              "      <td>The Authoritative Calvin and Hobbes: A Calvin ...</td>\n",
              "      <td>5</td>\n",
              "      <td>3</td>\n",
              "      <td>1</td>\n",
              "    </tr>\n",
              "    <tr>\n",
              "      <th>3</th>\n",
              "      <td>1</td>\n",
              "      <td>The Return of the Indian (The Indian in the Cu...</td>\n",
              "      <td>5</td>\n",
              "      <td>4</td>\n",
              "      <td>1</td>\n",
              "    </tr>\n",
              "    <tr>\n",
              "      <th>4</th>\n",
              "      <td>1</td>\n",
              "      <td>Dark Apprentice (Star Wars: The Jedi Academy T...</td>\n",
              "      <td>3</td>\n",
              "      <td>5</td>\n",
              "      <td>1</td>\n",
              "    </tr>\n",
              "  </tbody>\n",
              "</table>\n",
              "</div>\n",
              "      <button class=\"colab-df-convert\" onclick=\"convertToInteractive('df-58c0882a-4fcb-4b79-828e-d3262813440c')\"\n",
              "              title=\"Convert this dataframe to an interactive table.\"\n",
              "              style=\"display:none;\">\n",
              "        \n",
              "  <svg xmlns=\"http://www.w3.org/2000/svg\" height=\"24px\"viewBox=\"0 0 24 24\"\n",
              "       width=\"24px\">\n",
              "    <path d=\"M0 0h24v24H0V0z\" fill=\"none\"/>\n",
              "    <path d=\"M18.56 5.44l.94 2.06.94-2.06 2.06-.94-2.06-.94-.94-2.06-.94 2.06-2.06.94zm-11 1L8.5 8.5l.94-2.06 2.06-.94-2.06-.94L8.5 2.5l-.94 2.06-2.06.94zm10 10l.94 2.06.94-2.06 2.06-.94-2.06-.94-.94-2.06-.94 2.06-2.06.94z\"/><path d=\"M17.41 7.96l-1.37-1.37c-.4-.4-.92-.59-1.43-.59-.52 0-1.04.2-1.43.59L10.3 9.45l-7.72 7.72c-.78.78-.78 2.05 0 2.83L4 21.41c.39.39.9.59 1.41.59.51 0 1.02-.2 1.41-.59l7.78-7.78 2.81-2.81c.8-.78.8-2.07 0-2.86zM5.41 20L4 18.59l7.72-7.72 1.47 1.35L5.41 20z\"/>\n",
              "  </svg>\n",
              "      </button>\n",
              "      \n",
              "  <style>\n",
              "    .colab-df-container {\n",
              "      display:flex;\n",
              "      flex-wrap:wrap;\n",
              "      gap: 12px;\n",
              "    }\n",
              "\n",
              "    .colab-df-convert {\n",
              "      background-color: #E8F0FE;\n",
              "      border: none;\n",
              "      border-radius: 50%;\n",
              "      cursor: pointer;\n",
              "      display: none;\n",
              "      fill: #1967D2;\n",
              "      height: 32px;\n",
              "      padding: 0 0 0 0;\n",
              "      width: 32px;\n",
              "    }\n",
              "\n",
              "    .colab-df-convert:hover {\n",
              "      background-color: #E2EBFA;\n",
              "      box-shadow: 0px 1px 2px rgba(60, 64, 67, 0.3), 0px 1px 3px 1px rgba(60, 64, 67, 0.15);\n",
              "      fill: #174EA6;\n",
              "    }\n",
              "\n",
              "    [theme=dark] .colab-df-convert {\n",
              "      background-color: #3B4455;\n",
              "      fill: #D2E3FC;\n",
              "    }\n",
              "\n",
              "    [theme=dark] .colab-df-convert:hover {\n",
              "      background-color: #434B5C;\n",
              "      box-shadow: 0px 1px 3px 1px rgba(0, 0, 0, 0.15);\n",
              "      filter: drop-shadow(0px 1px 2px rgba(0, 0, 0, 0.3));\n",
              "      fill: #FFFFFF;\n",
              "    }\n",
              "  </style>\n",
              "\n",
              "      <script>\n",
              "        const buttonEl =\n",
              "          document.querySelector('#df-58c0882a-4fcb-4b79-828e-d3262813440c button.colab-df-convert');\n",
              "        buttonEl.style.display =\n",
              "          google.colab.kernel.accessAllowed ? 'block' : 'none';\n",
              "\n",
              "        async function convertToInteractive(key) {\n",
              "          const element = document.querySelector('#df-58c0882a-4fcb-4b79-828e-d3262813440c');\n",
              "          const dataTable =\n",
              "            await google.colab.kernel.invokeFunction('convertToInteractive',\n",
              "                                                     [key], {});\n",
              "          if (!dataTable) return;\n",
              "\n",
              "          const docLinkHtml = 'Like what you see? Visit the ' +\n",
              "            '<a target=\"_blank\" href=https://colab.research.google.com/notebooks/data_table.ipynb>data table notebook</a>'\n",
              "            + ' to learn more about interactive tables.';\n",
              "          element.innerHTML = '';\n",
              "          dataTable['output_type'] = 'display_data';\n",
              "          await google.colab.output.renderOutput(dataTable, element);\n",
              "          const docLink = document.createElement('div');\n",
              "          docLink.innerHTML = docLinkHtml;\n",
              "          element.appendChild(docLink);\n",
              "        }\n",
              "      </script>\n",
              "    </div>\n",
              "  </div>\n",
              "  "
            ]
          },
          "metadata": {},
          "execution_count": 3
        }
      ],
      "source": [
        "df = pd.read_csv(\"/content/drive/MyDrive/Colab Notebooks/final_users.csv\")\n",
        "df.head()"
      ]
    },
    {
      "cell_type": "code",
      "execution_count": 4,
      "metadata": {
        "colab": {
          "base_uri": "https://localhost:8080/"
        },
        "id": "LqMZFSf095ZG",
        "outputId": "7bc4ba9f-8d2e-452d-9046-ea05e5690c1b"
      },
      "outputs": [
        {
          "output_type": "stream",
          "name": "stdout",
          "text": [
            "11057\n",
            "3534\n"
          ]
        }
      ],
      "source": [
        "print(df['Name'].nunique()) #returns the unique users\n",
        "print(df['ID'].nunique())   #returns the unique ids"
      ]
    },
    {
      "cell_type": "code",
      "execution_count": null,
      "metadata": {
        "id": "TsSLNUbsKzq4"
      },
      "outputs": [],
      "source": [
        "def nmae(tes,f):    #function to compute normalised mean absolute error\n",
        "  mae_sum =0          \n",
        "  ratings_range = 4   \n",
        "  # s=0                \n",
        "  n=0     # length     \n",
        "  for i in range(3534):\n",
        "    for j in range(11057):\n",
        "      if tes[i][j]>0:\n",
        "        n+=1\n",
        "        mae_sum += np.abs(tes[i][j]-f[i][j])  \n",
        "        # s+=tes[i][j]\n",
        "  nmae = mae_sum/(ratings_range*n)\n",
        "  return nmae"
      ]
    },
    {
      "cell_type": "code",
      "source": [
        "def rmse(tes,f):    #function to compute normalised mean absolute error\n",
        "  mse_sum =0          \n",
        "  ratings_range = 4   \n",
        "  # s=0                \n",
        "  n=0     # length     \n",
        "  for i in range(3534):\n",
        "    for j in range(11057):\n",
        "      if tes[i][j]>0:\n",
        "        n+=1\n",
        "        mse_sum += (tes[i][j]-f[i][j])*(tes[i][j]-f[i][j])\n",
        "        # s+=tes[i][j]\n",
        "  nmae = np.sqrt(mse_sum/n)\n",
        "  return nmae"
      ],
      "metadata": {
        "id": "GyXoRWnjYX1p"
      },
      "execution_count": 5,
      "outputs": []
    },
    {
      "cell_type": "code",
      "execution_count": 6,
      "metadata": {
        "id": "-Myi-A_f-dZi"
      },
      "outputs": [],
      "source": [
        "def entire_matrix_creation(df):   # function to create the user-item matrix\n",
        "  user_item_matrix=np.zeros((3534,11057))\n",
        "  for i in range(len(df)):\n",
        "      user_item_matrix[df[\"New_ID\"][i]-1][df[\"Name_ID\"][i]-1] = df[\"Rating\"][i]\n",
        "  return user_item_matrix"
      ]
    },
    {
      "cell_type": "code",
      "execution_count": 7,
      "metadata": {
        "id": "eXYefizn9KiM"
      },
      "outputs": [],
      "source": [
        "def get_coordinates(matrix):\n",
        "    coordinates = []\n",
        "    for i in range(len(matrix)):\n",
        "        for j in range(len(matrix[i])):\n",
        "            if matrix[i][j] > 0:\n",
        "                coordinates.append((i, j))\n",
        "    return coordinates\n",
        "\n",
        "def split_list(list_to_split, ratio=0.7):\n",
        "    split_index = int(len(list_to_split) * ratio)\n",
        "\n",
        "    random.shuffle(list_to_split)\n",
        "\n",
        "    train = list_to_split[:split_index]\n",
        "    test = list_to_split[split_index:]\n",
        "    \n",
        "    return train, test"
      ]
    },
    {
      "cell_type": "code",
      "execution_count": 8,
      "metadata": {
        "id": "shqiYla8BjeN"
      },
      "outputs": [],
      "source": [
        "def train_test_creation(train_coordinates,test_coordinates,data):\n",
        "  train = np.zeros_like(data)\n",
        "  test = np.zeros_like(data)\n",
        "  for i in train_coordinates:\n",
        "    train[i[0]][i[1]] = data[i[0]][i[1]]\n",
        "\n",
        "  for i in test_coordinates:\n",
        "    test[i[0]][i[1]] = data[i[0]][i[1]]\n",
        "  \n",
        "  return train, test"
      ]
    },
    {
      "cell_type": "markdown",
      "metadata": {
        "id": "2ov1tAnFLfYE"
      },
      "source": [
        "### Multiplicative Updates"
      ]
    },
    {
      "cell_type": "code",
      "execution_count": null,
      "metadata": {
        "id": "wdJYkT-gK27e"
      },
      "outputs": [],
      "source": [
        "def matrix_factorization(iterations,y,u,v,r):\n",
        "  x = np.dot(u,v)\n",
        "  for i in range(iterations):\n",
        "    b = x +y - r*(np.dot(u,v))\n",
        "    for j in range(10):\n",
        "      u*= np.divide(np.dot(b,v.T),np.dot(np.dot(u,v),v.T))\n",
        "      v*= np.divide(np.dot(u.T,b),np.dot(np.dot(u.T,u),v))\n",
        "    x = np.dot(u,v)\n",
        "  return x"
      ]
    },
    {
      "cell_type": "code",
      "execution_count": 9,
      "metadata": {
        "id": "Xn8YBlEP2HGd"
      },
      "outputs": [],
      "source": [
        "data = entire_matrix_creation(df)"
      ]
    },
    {
      "cell_type": "code",
      "execution_count": 17,
      "metadata": {
        "id": "mghTq7qa9NKt"
      },
      "outputs": [],
      "source": [
        "kk = get_coordinates(data)\n",
        "train_coordinates, test_coordinates = split_list(kk,0.85)\n",
        "train, test = train_test_creation(train_coordinates,test_coordinates,data)"
      ]
    },
    {
      "cell_type": "code",
      "source": [
        "test.shape"
      ],
      "metadata": {
        "colab": {
          "base_uri": "https://localhost:8080/"
        },
        "id": "xbfvlk8QwKXq",
        "outputId": "d2340ee1-5da1-498b-9602-5064d6f19a28"
      },
      "execution_count": 14,
      "outputs": [
        {
          "output_type": "execute_result",
          "data": {
            "text/plain": [
              "(3534, 11057)"
            ]
          },
          "metadata": {},
          "execution_count": 14
        }
      ]
    },
    {
      "cell_type": "code",
      "execution_count": null,
      "metadata": {
        "id": "xGsz0WNLDo-i"
      },
      "outputs": [],
      "source": [
        "r = 1*(train>0)\n",
        "u = np.random.randint(low=0, high=6, size=(3534, 70))*0.1\n",
        "v = np.random.randint(low=0, high=6, size=(70, 11057))*0.1"
      ]
    },
    {
      "cell_type": "code",
      "execution_count": null,
      "metadata": {
        "id": "2fZB8MQhBqzx",
        "colab": {
          "base_uri": "https://localhost:8080/"
        },
        "outputId": "3b7cde40-00f8-4248-deb2-8b8e04f612da"
      },
      "outputs": [
        {
          "output_type": "stream",
          "name": "stdout",
          "text": [
            "0.20470791591124335\n"
          ]
        }
      ],
      "source": [
        "f = matrix_factorization(500, train, u, v, r)\n",
        "print(nmae(test,f))"
      ]
    },
    {
      "cell_type": "code",
      "execution_count": null,
      "metadata": {
        "id": "CFscD9Vt9flz",
        "colab": {
          "base_uri": "https://localhost:8080/"
        },
        "outputId": "03c685c2-2889-40c5-a988-c75496998706"
      },
      "outputs": [
        {
          "output_type": "execute_result",
          "data": {
            "text/plain": [
              "array([[5., 5., 5., ..., 0., 0., 0.],\n",
              "       [0., 4., 0., ..., 0., 0., 0.],\n",
              "       [0., 0., 0., ..., 0., 0., 0.],\n",
              "       ...,\n",
              "       [0., 0., 0., ..., 0., 0., 0.],\n",
              "       [0., 0., 0., ..., 0., 0., 0.],\n",
              "       [0., 0., 0., ..., 0., 0., 0.]])"
            ]
          },
          "metadata": {},
          "execution_count": 30
        }
      ],
      "source": [
        "data"
      ]
    },
    {
      "cell_type": "code",
      "execution_count": null,
      "metadata": {
        "id": "EnBHtmfb9id-",
        "colab": {
          "base_uri": "https://localhost:8080/"
        },
        "outputId": "063828c7-0e57-448b-b941-ecdc032f21b5"
      },
      "outputs": [
        {
          "output_type": "execute_result",
          "data": {
            "text/plain": [
              "array([[4.60996879, 3.83047743, 5.28152522, ..., 4.8918093 , 4.62225343,\n",
              "        3.8474758 ],\n",
              "       [3.64095239, 4.8555123 , 4.97809635, ..., 4.30031683, 4.07950517,\n",
              "        4.76757791],\n",
              "       [4.72304556, 5.06747926, 5.19242865, ..., 4.96201728, 5.32830976,\n",
              "        5.02823689],\n",
              "       ...,\n",
              "       [3.58374745, 4.92302828, 4.40591816, ..., 4.51605563, 4.31840826,\n",
              "        5.12141052],\n",
              "       [3.77776847, 5.36827428, 4.96972443, ..., 5.21001551, 4.95639964,\n",
              "        4.79659294],\n",
              "       [4.00479863, 3.77131526, 4.45578079, ..., 4.73659833, 4.98002966,\n",
              "        4.75863331]])"
            ]
          },
          "metadata": {},
          "execution_count": 31
        }
      ],
      "source": [
        "f"
      ]
    },
    {
      "cell_type": "code",
      "source": [
        "print(np.max(f))"
      ],
      "metadata": {
        "colab": {
          "base_uri": "https://localhost:8080/"
        },
        "id": "ThucxxfIaYfV",
        "outputId": "978415e3-3a6e-490b-a0b0-712ce6f3c90e"
      },
      "execution_count": null,
      "outputs": [
        {
          "output_type": "stream",
          "name": "stdout",
          "text": [
            "8.510228302824407\n"
          ]
        }
      ]
    },
    {
      "cell_type": "code",
      "source": [
        "import pickle\n",
        "with open('/content/drive/MyDrive/Colab Notebooks/f70.pkl', 'rb') as f:\n",
        "    x = pickle.load(f)"
      ],
      "metadata": {
        "id": "urnSwkE6nwE4"
      },
      "execution_count": 12,
      "outputs": []
    },
    {
      "cell_type": "code",
      "source": [
        "print(rmse(test,f))"
      ],
      "metadata": {
        "id": "VoIL_RWMKQ6M",
        "outputId": "8a98e25a-756a-4fcf-f417-caa8738886d8",
        "colab": {
          "base_uri": "https://localhost:8080/"
        }
      },
      "execution_count": 19,
      "outputs": [
        {
          "output_type": "stream",
          "name": "stdout",
          "text": [
            "0.903504320712\n"
          ]
        }
      ]
    },
    {
      "cell_type": "code",
      "source": [
        "import pickle\n",
        "pickle.dump(u, open('/content/drive/MyDrive/Colab Notebooks/u70.pkl', 'wb'))\n",
        "pickle.dump(v, open('/content/drive/MyDrive/Colab Notebooks/v70.pkl', 'wb'))\n",
        "pickle.dump(f, open('/content/drive/MyDrive/Colab Notebooks/f70.pkl', 'wb'))"
      ],
      "metadata": {
        "id": "qwuPPGK6adkZ"
      },
      "execution_count": null,
      "outputs": []
    }
  ],
  "metadata": {
    "colab": {
      "provenance": []
    },
    "gpuClass": "standard",
    "kernelspec": {
      "display_name": "Python 3",
      "name": "python3"
    },
    "language_info": {
      "name": "python"
    }
  },
  "nbformat": 4,
  "nbformat_minor": 0
}