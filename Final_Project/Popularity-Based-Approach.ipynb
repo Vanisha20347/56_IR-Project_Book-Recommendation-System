{
  "nbformat": 4,
  "nbformat_minor": 0,
  "metadata": {
    "colab": {
      "provenance": []
    },
    "kernelspec": {
      "name": "python3",
      "display_name": "Python 3"
    },
    "language_info": {
      "name": "python"
    },
    "gpuClass": "standard"
  },
  "cells": [
    {
      "cell_type": "code",
      "execution_count": 1,
      "metadata": {
        "id": "Lvck65u8di0G"
      },
      "outputs": [],
      "source": [
        "import pandas as pd \n",
        "import numpy as np\n",
        "import itertools"
      ]
    },
    {
      "cell_type": "code",
      "source": [
        "from google.colab import drive\n",
        "drive.mount('/content/drive')"
      ],
      "metadata": {
        "colab": {
          "base_uri": "https://localhost:8080/"
        },
        "id": "O0eg1xM8dzq7",
        "outputId": "23aafd0d-03c9-4223-d31a-d636e25b8988"
      },
      "execution_count": 2,
      "outputs": [
        {
          "output_type": "stream",
          "name": "stdout",
          "text": [
            "Mounted at /content/drive\n"
          ]
        }
      ]
    },
    {
      "cell_type": "code",
      "source": [
        "df = pd.read_csv('/content/drive/MyDrive/Colab Notebooks/IR/IR project/dataset/final_books.csv')"
      ],
      "metadata": {
        "id": "orpa-GXV1UDf"
      },
      "execution_count": 3,
      "outputs": []
    },
    {
      "cell_type": "code",
      "source": [
        "df.head()"
      ],
      "metadata": {
        "colab": {
          "base_uri": "https://localhost:8080/",
          "height": 206
        },
        "id": "eVKqVra59vY7",
        "outputId": "81b08187-c57c-4007-c96f-20ded1078d7a"
      },
      "execution_count": 4,
      "outputs": [
        {
          "output_type": "execute_result",
          "data": {
            "text/plain": [
              "                  Name         Authors  Rating  PublishYear  \\\n",
              "0  The Sleeping Beauty     Jacob Grimm    3.84         1995   \n",
              "1            Threshold      Bill Myers    3.83         1997   \n",
              "2     What Is the What     Dave Eggers    4.16         2007   \n",
              "3   Parasyte, Volume 2  Hitoshi Iwaaki    4.29         2007   \n",
              "4   Parasyte, Volume 3  Hitoshi Iwaaki    4.27         2008   \n",
              "\n",
              "                      Publisher  CountsOfReview Language  PagesNumber  \\\n",
              "0                    NorthSouth               0      NaN           32   \n",
              "1  Zondervan Publishing Company               3      NaN          331   \n",
              "2                Vintage Canada              65      NaN          538   \n",
              "3                       Del Rey              77      eng          288   \n",
              "4                       Del Rey              48      NaN          283   \n",
              "\n",
              "                                         Description  \n",
              "0  Enraged at not being invited to the princess' ...  \n",
              "1  Some say Brandon Martus has a mysterious abili...  \n",
              "2  <b>What Is the What</b> is the story of Valent...  \n",
              "3  <b>PERSONAL DEMON</b><br /><br />Shin looks li...  \n",
              "4  ALIEN NATION <br />Aliens parasites have invad...  "
            ],
            "text/html": [
              "\n",
              "  <div id=\"df-4aff6058-5880-485e-b87a-83cee8743eed\">\n",
              "    <div class=\"colab-df-container\">\n",
              "      <div>\n",
              "<style scoped>\n",
              "    .dataframe tbody tr th:only-of-type {\n",
              "        vertical-align: middle;\n",
              "    }\n",
              "\n",
              "    .dataframe tbody tr th {\n",
              "        vertical-align: top;\n",
              "    }\n",
              "\n",
              "    .dataframe thead th {\n",
              "        text-align: right;\n",
              "    }\n",
              "</style>\n",
              "<table border=\"1\" class=\"dataframe\">\n",
              "  <thead>\n",
              "    <tr style=\"text-align: right;\">\n",
              "      <th></th>\n",
              "      <th>Name</th>\n",
              "      <th>Authors</th>\n",
              "      <th>Rating</th>\n",
              "      <th>PublishYear</th>\n",
              "      <th>Publisher</th>\n",
              "      <th>CountsOfReview</th>\n",
              "      <th>Language</th>\n",
              "      <th>PagesNumber</th>\n",
              "      <th>Description</th>\n",
              "    </tr>\n",
              "  </thead>\n",
              "  <tbody>\n",
              "    <tr>\n",
              "      <th>0</th>\n",
              "      <td>The Sleeping Beauty</td>\n",
              "      <td>Jacob Grimm</td>\n",
              "      <td>3.84</td>\n",
              "      <td>1995</td>\n",
              "      <td>NorthSouth</td>\n",
              "      <td>0</td>\n",
              "      <td>NaN</td>\n",
              "      <td>32</td>\n",
              "      <td>Enraged at not being invited to the princess' ...</td>\n",
              "    </tr>\n",
              "    <tr>\n",
              "      <th>1</th>\n",
              "      <td>Threshold</td>\n",
              "      <td>Bill Myers</td>\n",
              "      <td>3.83</td>\n",
              "      <td>1997</td>\n",
              "      <td>Zondervan Publishing Company</td>\n",
              "      <td>3</td>\n",
              "      <td>NaN</td>\n",
              "      <td>331</td>\n",
              "      <td>Some say Brandon Martus has a mysterious abili...</td>\n",
              "    </tr>\n",
              "    <tr>\n",
              "      <th>2</th>\n",
              "      <td>What Is the What</td>\n",
              "      <td>Dave Eggers</td>\n",
              "      <td>4.16</td>\n",
              "      <td>2007</td>\n",
              "      <td>Vintage Canada</td>\n",
              "      <td>65</td>\n",
              "      <td>NaN</td>\n",
              "      <td>538</td>\n",
              "      <td>&lt;b&gt;What Is the What&lt;/b&gt; is the story of Valent...</td>\n",
              "    </tr>\n",
              "    <tr>\n",
              "      <th>3</th>\n",
              "      <td>Parasyte, Volume 2</td>\n",
              "      <td>Hitoshi Iwaaki</td>\n",
              "      <td>4.29</td>\n",
              "      <td>2007</td>\n",
              "      <td>Del Rey</td>\n",
              "      <td>77</td>\n",
              "      <td>eng</td>\n",
              "      <td>288</td>\n",
              "      <td>&lt;b&gt;PERSONAL DEMON&lt;/b&gt;&lt;br /&gt;&lt;br /&gt;Shin looks li...</td>\n",
              "    </tr>\n",
              "    <tr>\n",
              "      <th>4</th>\n",
              "      <td>Parasyte, Volume 3</td>\n",
              "      <td>Hitoshi Iwaaki</td>\n",
              "      <td>4.27</td>\n",
              "      <td>2008</td>\n",
              "      <td>Del Rey</td>\n",
              "      <td>48</td>\n",
              "      <td>NaN</td>\n",
              "      <td>283</td>\n",
              "      <td>ALIEN NATION &lt;br /&gt;Aliens parasites have invad...</td>\n",
              "    </tr>\n",
              "  </tbody>\n",
              "</table>\n",
              "</div>\n",
              "      <button class=\"colab-df-convert\" onclick=\"convertToInteractive('df-4aff6058-5880-485e-b87a-83cee8743eed')\"\n",
              "              title=\"Convert this dataframe to an interactive table.\"\n",
              "              style=\"display:none;\">\n",
              "        \n",
              "  <svg xmlns=\"http://www.w3.org/2000/svg\" height=\"24px\"viewBox=\"0 0 24 24\"\n",
              "       width=\"24px\">\n",
              "    <path d=\"M0 0h24v24H0V0z\" fill=\"none\"/>\n",
              "    <path d=\"M18.56 5.44l.94 2.06.94-2.06 2.06-.94-2.06-.94-.94-2.06-.94 2.06-2.06.94zm-11 1L8.5 8.5l.94-2.06 2.06-.94-2.06-.94L8.5 2.5l-.94 2.06-2.06.94zm10 10l.94 2.06.94-2.06 2.06-.94-2.06-.94-.94-2.06-.94 2.06-2.06.94z\"/><path d=\"M17.41 7.96l-1.37-1.37c-.4-.4-.92-.59-1.43-.59-.52 0-1.04.2-1.43.59L10.3 9.45l-7.72 7.72c-.78.78-.78 2.05 0 2.83L4 21.41c.39.39.9.59 1.41.59.51 0 1.02-.2 1.41-.59l7.78-7.78 2.81-2.81c.8-.78.8-2.07 0-2.86zM5.41 20L4 18.59l7.72-7.72 1.47 1.35L5.41 20z\"/>\n",
              "  </svg>\n",
              "      </button>\n",
              "      \n",
              "  <style>\n",
              "    .colab-df-container {\n",
              "      display:flex;\n",
              "      flex-wrap:wrap;\n",
              "      gap: 12px;\n",
              "    }\n",
              "\n",
              "    .colab-df-convert {\n",
              "      background-color: #E8F0FE;\n",
              "      border: none;\n",
              "      border-radius: 50%;\n",
              "      cursor: pointer;\n",
              "      display: none;\n",
              "      fill: #1967D2;\n",
              "      height: 32px;\n",
              "      padding: 0 0 0 0;\n",
              "      width: 32px;\n",
              "    }\n",
              "\n",
              "    .colab-df-convert:hover {\n",
              "      background-color: #E2EBFA;\n",
              "      box-shadow: 0px 1px 2px rgba(60, 64, 67, 0.3), 0px 1px 3px 1px rgba(60, 64, 67, 0.15);\n",
              "      fill: #174EA6;\n",
              "    }\n",
              "\n",
              "    [theme=dark] .colab-df-convert {\n",
              "      background-color: #3B4455;\n",
              "      fill: #D2E3FC;\n",
              "    }\n",
              "\n",
              "    [theme=dark] .colab-df-convert:hover {\n",
              "      background-color: #434B5C;\n",
              "      box-shadow: 0px 1px 3px 1px rgba(0, 0, 0, 0.15);\n",
              "      filter: drop-shadow(0px 1px 2px rgba(0, 0, 0, 0.3));\n",
              "      fill: #FFFFFF;\n",
              "    }\n",
              "  </style>\n",
              "\n",
              "      <script>\n",
              "        const buttonEl =\n",
              "          document.querySelector('#df-4aff6058-5880-485e-b87a-83cee8743eed button.colab-df-convert');\n",
              "        buttonEl.style.display =\n",
              "          google.colab.kernel.accessAllowed ? 'block' : 'none';\n",
              "\n",
              "        async function convertToInteractive(key) {\n",
              "          const element = document.querySelector('#df-4aff6058-5880-485e-b87a-83cee8743eed');\n",
              "          const dataTable =\n",
              "            await google.colab.kernel.invokeFunction('convertToInteractive',\n",
              "                                                     [key], {});\n",
              "          if (!dataTable) return;\n",
              "\n",
              "          const docLinkHtml = 'Like what you see? Visit the ' +\n",
              "            '<a target=\"_blank\" href=https://colab.research.google.com/notebooks/data_table.ipynb>data table notebook</a>'\n",
              "            + ' to learn more about interactive tables.';\n",
              "          element.innerHTML = '';\n",
              "          dataTable['output_type'] = 'display_data';\n",
              "          await google.colab.output.renderOutput(dataTable, element);\n",
              "          const docLink = document.createElement('div');\n",
              "          docLink.innerHTML = docLinkHtml;\n",
              "          element.appendChild(docLink);\n",
              "        }\n",
              "      </script>\n",
              "    </div>\n",
              "  </div>\n",
              "  "
            ]
          },
          "metadata": {},
          "execution_count": 4
        }
      ]
    },
    {
      "cell_type": "code",
      "source": [
        "m = 50 # minimum votes required to be listed\n",
        "k = df['Rating'].mean()\n",
        "popularity_ratings = {}\n",
        "for i in range(len(df)):\n",
        "  r = df['Rating'][i]\n",
        "  v = df['CountsOfReview'][i]\n",
        "  wr = (r*v + k*m) / (v+m)\n",
        "  popularity_ratings[i] = wr"
      ],
      "metadata": {
        "id": "uQMzB6kdOAcZ"
      },
      "execution_count": 5,
      "outputs": []
    },
    {
      "cell_type": "code",
      "source": [
        "sorted_dict = dict(sorted(popularity_ratings.items(), key=lambda x:x[1],reverse=True))\n",
        "out  = dict(itertools.islice(sorted_dict.items(),10))"
      ],
      "metadata": {
        "id": "GFsCFjntIhVH"
      },
      "execution_count": 15,
      "outputs": []
    },
    {
      "cell_type": "code",
      "source": [
        "for i in out.keys():\n",
        "  print(df['Name'][i])"
      ],
      "metadata": {
        "colab": {
          "base_uri": "https://localhost:8080/"
        },
        "id": "ePCEsgLQgkC9",
        "outputId": "1a06adc0-eec3-4188-ef84-6e6363392b4d"
      },
      "execution_count": 17,
      "outputs": [
        {
          "output_type": "stream",
          "name": "stdout",
          "text": [
            "Acheron (Dark-Hunter #14)\n",
            "The Hero of Ages (Mistborn, #3)\n",
            "The Island of the World\n",
            "The Absolute Sandman, Volume Three\n",
            "Little Blue Truck\n",
            "The Book of Negroes\n",
            "An Echo in the Bone (Outlander, #7)\n",
            "The Battle of the Labyrinth (Percy Jackson and the Olympians, #4)\n",
            "The Well of Ascension (Mistborn, #2)\n",
            "Shadow Kiss (Vampire Academy, #3)\n"
          ]
        }
      ]
    }
  ]
}